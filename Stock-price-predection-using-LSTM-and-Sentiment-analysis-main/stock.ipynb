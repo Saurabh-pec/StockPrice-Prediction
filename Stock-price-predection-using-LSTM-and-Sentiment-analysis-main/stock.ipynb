{
 "cells": [
  {
   "cell_type": "code",
   "execution_count": 1,
   "metadata": {},
   "outputs": [],
   "source": [
    "import numpy as np"
   ]
  },
  {
   "cell_type": "code",
   "execution_count": 2,
   "metadata": {},
   "outputs": [],
   "source": [
    "import pandas as pd\n",
    "from nltk.classify import NaiveBayesClassifier\n",
    "from nltk.corpus import subjectivity\n",
    "from nltk.sentiment import SentimentAnalyzer\n",
    "from nltk.sentiment.util import *\n",
    "import matplotlib.pyplot as mlpt\n"
   ]
  },
  {
   "cell_type": "code",
   "execution_count": 3,
   "metadata": {},
   "outputs": [],
   "source": [
    "import tweepy\n",
    "import csv\n",
    "import pandas as pd\n",
    "import random\n",
    "import numpy as np\n",
    "import pandas as pd"
   ]
  },
  {
   "cell_type": "code",
   "execution_count": 4,
   "metadata": {},
   "outputs": [],
   "source": [
    "consumer_key    = '0HwwLndFzphxpc0FtcbTL1FHB'\n",
    "consumer_secret = '9s0bWRPf99KNseJUtaWRw2XFBVfyvizGEtO2OpSlDm7AcArSaF'\n",
    "\n",
    "access_token  = '1182380009215840256-5h6QC18s7vaOzMN51mnN0sjKCshbBg'\n",
    "access_token_secret = 'F1A2XGx3C0FXFK6AIRBFRQDmnkP3KOBYxWCiGgUz4dVek'\n",
    "\n",
    "auth = tweepy.OAuthHandler(consumer_key, consumer_secret)\n",
    "auth.set_access_token(access_token, access_token_secret)\n",
    "api = tweepy.API(auth,wait_on_rate_limit=True)"
   ]
  },
  {
   "cell_type": "code",
   "execution_count": 5,
   "metadata": {},
   "outputs": [],
   "source": [
    "fetch_tweets=tweepy.Cursor(api.search, q=\"#sbin\",count=100, lang =\"en\",since=\"2019-11-25\", tweet_mode=\"extended\").items()"
   ]
  },
  {
   "cell_type": "code",
   "execution_count": 6,
   "metadata": {},
   "outputs": [],
   "source": [
    "data=pd.DataFrame(data=[[tweet_info.created_at.date(),tweet_info.full_text]for tweet_info in fetch_tweets],columns=['Date','Tweets'])"
   ]
  },
  {
   "cell_type": "code",
   "execution_count": 7,
   "metadata": {},
   "outputs": [
    {
     "name": "stdout",
     "output_type": "stream",
     "text": [
      "           Date                                             Tweets\n",
      "0    2020-11-25  #sbin\\nToday giving nice swing both side..\\nNo...\n",
      "1    2020-11-25  Buy 1 CURMON #SBIN contracts at 243.45, Sell 2...\n",
      "2    2020-11-25  #SBIN - SBIN LONG - TradingView - https://t.co...\n",
      "3    2020-11-25  State Bank India target has been reached #Shor...\n",
      "4    2020-11-25  Nifty50 trade above 13,100. Nifty Bank 30000+ ...\n",
      "..          ...                                                ...\n",
      "212  2020-11-16  RT @PAVLeader: Here is an example of #SBIN to ...\n",
      "213  2020-11-16  RT @PAVLeader: Here is an example of #SBIN to ...\n",
      "214  2020-11-16  RT @PAVLeader: Here is an example of #SBIN to ...\n",
      "215  2020-11-16  RT @PAVLeader: Here is an example of #SBIN to ...\n",
      "216  2020-11-16  RT @PAVLeader: Here is an example of #SBIN to ...\n",
      "\n",
      "[217 rows x 2 columns]\n"
     ]
    }
   ],
   "source": [
    "print(data)"
   ]
  },
  {
   "cell_type": "code",
   "execution_count": 8,
   "metadata": {},
   "outputs": [
    {
     "name": "stdout",
     "output_type": "stream",
     "text": [
      "Date      object\n",
      "Tweets    object\n",
      "dtype: object\n"
     ]
    }
   ],
   "source": [
    "data.to_csv(\"Tweets.csv\")\n",
    "cdata=pd.DataFrame(columns=['Date','Tweets'])\n",
    "total=100\n",
    "index=0\n",
    "for index,row in data.iterrows():\n",
    "    stre=row[\"Tweets\"]\n",
    "    my_new_string = re.sub('[^ a-zA-Z0-9]', '', stre)\n",
    "    cdata.sort_index()\n",
    "    cdata.at[index,'Date']=row[\"Date\"]\n",
    "    #cdata.set_value(index,'Date',row[\"Date\"])\n",
    "    cdata.at[index,'Tweets']=my_new_string\n",
    "    #cdata.set_value(index,'Tweets',my_new_string)\n",
    "    index=index+1\n",
    "print(cdata.dtypes)"
   ]
  },
  {
   "cell_type": "code",
   "execution_count": 9,
   "metadata": {},
   "outputs": [
    {
     "data": {
      "text/html": [
       "<div>\n",
       "<style scoped>\n",
       "    .dataframe tbody tr th:only-of-type {\n",
       "        vertical-align: middle;\n",
       "    }\n",
       "\n",
       "    .dataframe tbody tr th {\n",
       "        vertical-align: top;\n",
       "    }\n",
       "\n",
       "    .dataframe thead th {\n",
       "        text-align: right;\n",
       "    }\n",
       "</style>\n",
       "<table border=\"1\" class=\"dataframe\">\n",
       "  <thead>\n",
       "    <tr style=\"text-align: right;\">\n",
       "      <th></th>\n",
       "      <th>Date</th>\n",
       "      <th>Tweets</th>\n",
       "    </tr>\n",
       "  </thead>\n",
       "  <tbody>\n",
       "    <tr>\n",
       "      <th>0</th>\n",
       "      <td>2020-11-25</td>\n",
       "      <td>sbinToday giving nice swing both sideNo need o...</td>\n",
       "    </tr>\n",
       "    <tr>\n",
       "      <th>1</th>\n",
       "      <td>2020-11-25</td>\n",
       "      <td>Buy 1 CURMON SBIN contracts at 24345 Sell 2 CU...</td>\n",
       "    </tr>\n",
       "    <tr>\n",
       "      <th>2</th>\n",
       "      <td>2020-11-25</td>\n",
       "      <td>SBIN  SBIN LONG  TradingView  httpstcoiPcsVO0uAM</td>\n",
       "    </tr>\n",
       "    <tr>\n",
       "      <th>3</th>\n",
       "      <td>2020-11-25</td>\n",
       "      <td>State Bank India target has been reached Short...</td>\n",
       "    </tr>\n",
       "    <tr>\n",
       "      <th>4</th>\n",
       "      <td>2020-11-25</td>\n",
       "      <td>Nifty50 trade above 13100 Nifty Bank 30000 in ...</td>\n",
       "    </tr>\n",
       "    <tr>\n",
       "      <th>...</th>\n",
       "      <td>...</td>\n",
       "      <td>...</td>\n",
       "    </tr>\n",
       "    <tr>\n",
       "      <th>212</th>\n",
       "      <td>2020-11-16</td>\n",
       "      <td>RT PAVLeader Here is an example of SBIN to lea...</td>\n",
       "    </tr>\n",
       "    <tr>\n",
       "      <th>213</th>\n",
       "      <td>2020-11-16</td>\n",
       "      <td>RT PAVLeader Here is an example of SBIN to lea...</td>\n",
       "    </tr>\n",
       "    <tr>\n",
       "      <th>214</th>\n",
       "      <td>2020-11-16</td>\n",
       "      <td>RT PAVLeader Here is an example of SBIN to lea...</td>\n",
       "    </tr>\n",
       "    <tr>\n",
       "      <th>215</th>\n",
       "      <td>2020-11-16</td>\n",
       "      <td>RT PAVLeader Here is an example of SBIN to lea...</td>\n",
       "    </tr>\n",
       "    <tr>\n",
       "      <th>216</th>\n",
       "      <td>2020-11-16</td>\n",
       "      <td>RT PAVLeader Here is an example of SBIN to lea...</td>\n",
       "    </tr>\n",
       "  </tbody>\n",
       "</table>\n",
       "<p>217 rows × 2 columns</p>\n",
       "</div>"
      ],
      "text/plain": [
       "           Date                                             Tweets\n",
       "0    2020-11-25  sbinToday giving nice swing both sideNo need o...\n",
       "1    2020-11-25  Buy 1 CURMON SBIN contracts at 24345 Sell 2 CU...\n",
       "2    2020-11-25   SBIN  SBIN LONG  TradingView  httpstcoiPcsVO0uAM\n",
       "3    2020-11-25  State Bank India target has been reached Short...\n",
       "4    2020-11-25  Nifty50 trade above 13100 Nifty Bank 30000 in ...\n",
       "..          ...                                                ...\n",
       "212  2020-11-16  RT PAVLeader Here is an example of SBIN to lea...\n",
       "213  2020-11-16  RT PAVLeader Here is an example of SBIN to lea...\n",
       "214  2020-11-16  RT PAVLeader Here is an example of SBIN to lea...\n",
       "215  2020-11-16  RT PAVLeader Here is an example of SBIN to lea...\n",
       "216  2020-11-16  RT PAVLeader Here is an example of SBIN to lea...\n",
       "\n",
       "[217 rows x 2 columns]"
      ]
     },
     "execution_count": 9,
     "metadata": {},
     "output_type": "execute_result"
    }
   ],
   "source": [
    "cdata"
   ]
  },
  {
   "cell_type": "code",
   "execution_count": 10,
   "metadata": {},
   "outputs": [],
   "source": [
    "ccdata=pd.DataFrame(columns=['Date','Tweets'])"
   ]
  },
  {
   "cell_type": "code",
   "execution_count": 11,
   "metadata": {},
   "outputs": [],
   "source": [
    "\n",
    "indx=0\n",
    "get_tweet=\"\"\n",
    "for i in range(0,len(cdata)-1):\n",
    "    get_date=cdata.Date.iloc[i]\n",
    "    next_date=cdata.Date.iloc[i+1]\n",
    "    if(str(get_date)==str(next_date)):\n",
    "        get_tweet=get_tweet+cdata.Tweets.iloc[i]+\" \"\n",
    "    if(str(get_date)!=str(next_date)):\n",
    "        ccdata.at[indx,'Date']=get_date\n",
    "        #ccdata.set_value(indx,'Date',get_date)\n",
    "        ccdata.at[indx,'Tweets']=get_tweet\n",
    "        #ccdata.set_value(indx,'Tweets',get_tweet)\n",
    "        indx=indx+1\n",
    "        get_tweet=\" \""
   ]
  },
  {
   "cell_type": "code",
   "execution_count": 12,
   "metadata": {},
   "outputs": [
    {
     "data": {
      "text/html": [
       "<div>\n",
       "<style scoped>\n",
       "    .dataframe tbody tr th:only-of-type {\n",
       "        vertical-align: middle;\n",
       "    }\n",
       "\n",
       "    .dataframe tbody tr th {\n",
       "        vertical-align: top;\n",
       "    }\n",
       "\n",
       "    .dataframe thead th {\n",
       "        text-align: right;\n",
       "    }\n",
       "</style>\n",
       "<table border=\"1\" class=\"dataframe\">\n",
       "  <thead>\n",
       "    <tr style=\"text-align: right;\">\n",
       "      <th></th>\n",
       "      <th>Date</th>\n",
       "      <th>Tweets</th>\n",
       "    </tr>\n",
       "  </thead>\n",
       "  <tbody>\n",
       "    <tr>\n",
       "      <th>0</th>\n",
       "      <td>2020-11-25</td>\n",
       "      <td>sbinToday giving nice swing both sideNo need o...</td>\n",
       "    </tr>\n",
       "    <tr>\n",
       "      <th>1</th>\n",
       "      <td>2020-11-24</td>\n",
       "      <td>SBIN  Another trade of the day  PriceAction T...</td>\n",
       "    </tr>\n",
       "    <tr>\n",
       "      <th>2</th>\n",
       "      <td>2020-11-23</td>\n",
       "      <td>RT TechnomanThe SBI Apprentice Recruitment 20...</td>\n",
       "    </tr>\n",
       "    <tr>\n",
       "      <th>3</th>\n",
       "      <td>2020-11-22</td>\n",
       "      <td>sbin enters into MOUWith Luxembourg stock exc...</td>\n",
       "    </tr>\n",
       "    <tr>\n",
       "      <th>4</th>\n",
       "      <td>2020-11-21</td>\n",
       "      <td>SBI Apprentice Recruitment 2020  Stipend Rs19...</td>\n",
       "    </tr>\n",
       "    <tr>\n",
       "      <th>5</th>\n",
       "      <td>2020-11-20</td>\n",
       "      <td>Short Term Cash State Bank India LtdBuy at 24...</td>\n",
       "    </tr>\n",
       "    <tr>\n",
       "      <th>6</th>\n",
       "      <td>2020-11-19</td>\n",
       "      <td>sbin high 253  Buying signal at 195 httpstcoc...</td>\n",
       "    </tr>\n",
       "    <tr>\n",
       "      <th>7</th>\n",
       "      <td>2020-11-18</td>\n",
       "      <td>SBIN  SBIN  Nice position to Invest BUY  Trad...</td>\n",
       "    </tr>\n",
       "    <tr>\n",
       "      <th>8</th>\n",
       "      <td>2020-11-17</td>\n",
       "      <td>RT PAVLeader Here is an example of SBIN to le...</td>\n",
       "    </tr>\n",
       "  </tbody>\n",
       "</table>\n",
       "</div>"
      ],
      "text/plain": [
       "         Date                                             Tweets\n",
       "0  2020-11-25  sbinToday giving nice swing both sideNo need o...\n",
       "1  2020-11-24   SBIN  Another trade of the day  PriceAction T...\n",
       "2  2020-11-23   RT TechnomanThe SBI Apprentice Recruitment 20...\n",
       "3  2020-11-22   sbin enters into MOUWith Luxembourg stock exc...\n",
       "4  2020-11-21   SBI Apprentice Recruitment 2020  Stipend Rs19...\n",
       "5  2020-11-20   Short Term Cash State Bank India LtdBuy at 24...\n",
       "6  2020-11-19   sbin high 253  Buying signal at 195 httpstcoc...\n",
       "7  2020-11-18   SBIN  SBIN  Nice position to Invest BUY  Trad...\n",
       "8  2020-11-17   RT PAVLeader Here is an example of SBIN to le..."
      ]
     },
     "execution_count": 12,
     "metadata": {},
     "output_type": "execute_result"
    }
   ],
   "source": [
    "ccdata"
   ]
  },
  {
   "cell_type": "code",
   "execution_count": 13,
   "metadata": {},
   "outputs": [
    {
     "data": {
      "text/html": [
       "<div>\n",
       "<style scoped>\n",
       "    .dataframe tbody tr th:only-of-type {\n",
       "        vertical-align: middle;\n",
       "    }\n",
       "\n",
       "    .dataframe tbody tr th {\n",
       "        vertical-align: top;\n",
       "    }\n",
       "\n",
       "    .dataframe thead th {\n",
       "        text-align: right;\n",
       "    }\n",
       "</style>\n",
       "<table border=\"1\" class=\"dataframe\">\n",
       "  <thead>\n",
       "    <tr style=\"text-align: right;\">\n",
       "      <th></th>\n",
       "      <th>Date</th>\n",
       "      <th>Open</th>\n",
       "      <th>High</th>\n",
       "      <th>Low</th>\n",
       "      <th>Close</th>\n",
       "      <th>Adj Close</th>\n",
       "      <th>Volume</th>\n",
       "    </tr>\n",
       "  </thead>\n",
       "  <tbody>\n",
       "    <tr>\n",
       "      <th>0</th>\n",
       "      <td>2019-11-25</td>\n",
       "      <td>329.000000</td>\n",
       "      <td>337.500000</td>\n",
       "      <td>328.350006</td>\n",
       "      <td>336.100006</td>\n",
       "      <td>336.100006</td>\n",
       "      <td>27561300.0</td>\n",
       "    </tr>\n",
       "    <tr>\n",
       "      <th>1</th>\n",
       "      <td>2019-11-26</td>\n",
       "      <td>338.000000</td>\n",
       "      <td>340.000000</td>\n",
       "      <td>332.600006</td>\n",
       "      <td>335.500000</td>\n",
       "      <td>335.500000</td>\n",
       "      <td>36464072.0</td>\n",
       "    </tr>\n",
       "    <tr>\n",
       "      <th>2</th>\n",
       "      <td>2019-11-27</td>\n",
       "      <td>335.950012</td>\n",
       "      <td>345.549988</td>\n",
       "      <td>334.049988</td>\n",
       "      <td>343.549988</td>\n",
       "      <td>343.549988</td>\n",
       "      <td>33971305.0</td>\n",
       "    </tr>\n",
       "    <tr>\n",
       "      <th>3</th>\n",
       "      <td>2019-11-28</td>\n",
       "      <td>346.850006</td>\n",
       "      <td>351.000000</td>\n",
       "      <td>344.500000</td>\n",
       "      <td>349.299988</td>\n",
       "      <td>349.299988</td>\n",
       "      <td>42538227.0</td>\n",
       "    </tr>\n",
       "    <tr>\n",
       "      <th>4</th>\n",
       "      <td>2019-11-29</td>\n",
       "      <td>348.850006</td>\n",
       "      <td>348.850006</td>\n",
       "      <td>340.600006</td>\n",
       "      <td>341.850006</td>\n",
       "      <td>341.850006</td>\n",
       "      <td>23081823.0</td>\n",
       "    </tr>\n",
       "    <tr>\n",
       "      <th>...</th>\n",
       "      <td>...</td>\n",
       "      <td>...</td>\n",
       "      <td>...</td>\n",
       "      <td>...</td>\n",
       "      <td>...</td>\n",
       "      <td>...</td>\n",
       "      <td>...</td>\n",
       "    </tr>\n",
       "    <tr>\n",
       "      <th>247</th>\n",
       "      <td>2020-11-18</td>\n",
       "      <td>239.399994</td>\n",
       "      <td>253.000000</td>\n",
       "      <td>237.899994</td>\n",
       "      <td>252.000000</td>\n",
       "      <td>252.000000</td>\n",
       "      <td>104514060.0</td>\n",
       "    </tr>\n",
       "    <tr>\n",
       "      <th>248</th>\n",
       "      <td>2020-11-19</td>\n",
       "      <td>248.000000</td>\n",
       "      <td>251.800003</td>\n",
       "      <td>239.000000</td>\n",
       "      <td>239.750000</td>\n",
       "      <td>239.750000</td>\n",
       "      <td>82284278.0</td>\n",
       "    </tr>\n",
       "    <tr>\n",
       "      <th>249</th>\n",
       "      <td>2020-11-20</td>\n",
       "      <td>241.500000</td>\n",
       "      <td>245.399994</td>\n",
       "      <td>233.949997</td>\n",
       "      <td>242.750000</td>\n",
       "      <td>242.750000</td>\n",
       "      <td>84411129.0</td>\n",
       "    </tr>\n",
       "    <tr>\n",
       "      <th>250</th>\n",
       "      <td>2020-11-23</td>\n",
       "      <td>243.500000</td>\n",
       "      <td>246.149994</td>\n",
       "      <td>238.100006</td>\n",
       "      <td>238.699997</td>\n",
       "      <td>238.699997</td>\n",
       "      <td>57538324.0</td>\n",
       "    </tr>\n",
       "    <tr>\n",
       "      <th>251</th>\n",
       "      <td>2020-11-24</td>\n",
       "      <td>240.500000</td>\n",
       "      <td>245.000000</td>\n",
       "      <td>239.500000</td>\n",
       "      <td>243.850006</td>\n",
       "      <td>243.850006</td>\n",
       "      <td>47636611.0</td>\n",
       "    </tr>\n",
       "  </tbody>\n",
       "</table>\n",
       "<p>252 rows × 7 columns</p>\n",
       "</div>"
      ],
      "text/plain": [
       "           Date        Open        High         Low       Close   Adj Close  \\\n",
       "0    2019-11-25  329.000000  337.500000  328.350006  336.100006  336.100006   \n",
       "1    2019-11-26  338.000000  340.000000  332.600006  335.500000  335.500000   \n",
       "2    2019-11-27  335.950012  345.549988  334.049988  343.549988  343.549988   \n",
       "3    2019-11-28  346.850006  351.000000  344.500000  349.299988  349.299988   \n",
       "4    2019-11-29  348.850006  348.850006  340.600006  341.850006  341.850006   \n",
       "..          ...         ...         ...         ...         ...         ...   \n",
       "247  2020-11-18  239.399994  253.000000  237.899994  252.000000  252.000000   \n",
       "248  2020-11-19  248.000000  251.800003  239.000000  239.750000  239.750000   \n",
       "249  2020-11-20  241.500000  245.399994  233.949997  242.750000  242.750000   \n",
       "250  2020-11-23  243.500000  246.149994  238.100006  238.699997  238.699997   \n",
       "251  2020-11-24  240.500000  245.000000  239.500000  243.850006  243.850006   \n",
       "\n",
       "          Volume  \n",
       "0     27561300.0  \n",
       "1     36464072.0  \n",
       "2     33971305.0  \n",
       "3     42538227.0  \n",
       "4     23081823.0  \n",
       "..           ...  \n",
       "247  104514060.0  \n",
       "248   82284278.0  \n",
       "249   84411129.0  \n",
       "250   57538324.0  \n",
       "251   47636611.0  \n",
       "\n",
       "[252 rows x 7 columns]"
      ]
     },
     "execution_count": 13,
     "metadata": {},
     "output_type": "execute_result"
    }
   ],
   "source": [
    "read_stock_p=pd.read_csv('SBIN.csv')\n",
    "read_stock_p"
   ]
  },
  {
   "cell_type": "code",
   "execution_count": 14,
   "metadata": {},
   "outputs": [],
   "source": [
    "ccdata['Prices']=\"\""
   ]
  },
  {
   "cell_type": "code",
   "execution_count": 15,
   "metadata": {},
   "outputs": [
    {
     "name": "stdout",
     "output_type": "stream",
     "text": [
      "2020-11-24   2020-11-24\n",
      "2020-11-23   2020-11-23\n",
      "2020-11-20   2020-11-20\n",
      "2020-11-19   2020-11-19\n",
      "2020-11-18   2020-11-18\n",
      "2020-11-17   2020-11-17\n"
     ]
    }
   ],
   "source": [
    "indx=0\n",
    "for i in range (0,len(ccdata)):\n",
    "    for j in range (0,len(read_stock_p)):\n",
    "        get_tweet_date=ccdata.Date.iloc[i]\n",
    "        get_stock_date=read_stock_p.Date.iloc[j]\n",
    "        if(str(get_stock_date)==str(get_tweet_date)):\n",
    "            print(get_stock_date,\" \",get_tweet_date)\n",
    "            ccdata.at[i,'Prices']=int(read_stock_p.Close[j])\n",
    "            #ccdata.set_value(i,'Prices',int(read_stock_p.Close[j]))\n",
    "            break"
   ]
  },
  {
   "cell_type": "code",
   "execution_count": 16,
   "metadata": {},
   "outputs": [
    {
     "data": {
      "text/html": [
       "<div>\n",
       "<style scoped>\n",
       "    .dataframe tbody tr th:only-of-type {\n",
       "        vertical-align: middle;\n",
       "    }\n",
       "\n",
       "    .dataframe tbody tr th {\n",
       "        vertical-align: top;\n",
       "    }\n",
       "\n",
       "    .dataframe thead th {\n",
       "        text-align: right;\n",
       "    }\n",
       "</style>\n",
       "<table border=\"1\" class=\"dataframe\">\n",
       "  <thead>\n",
       "    <tr style=\"text-align: right;\">\n",
       "      <th></th>\n",
       "      <th>Date</th>\n",
       "      <th>Tweets</th>\n",
       "      <th>Prices</th>\n",
       "    </tr>\n",
       "  </thead>\n",
       "  <tbody>\n",
       "    <tr>\n",
       "      <th>0</th>\n",
       "      <td>2020-11-25</td>\n",
       "      <td>sbinToday giving nice swing both sideNo need o...</td>\n",
       "      <td></td>\n",
       "    </tr>\n",
       "    <tr>\n",
       "      <th>1</th>\n",
       "      <td>2020-11-24</td>\n",
       "      <td>SBIN  Another trade of the day  PriceAction T...</td>\n",
       "      <td>243</td>\n",
       "    </tr>\n",
       "    <tr>\n",
       "      <th>2</th>\n",
       "      <td>2020-11-23</td>\n",
       "      <td>RT TechnomanThe SBI Apprentice Recruitment 20...</td>\n",
       "      <td>238</td>\n",
       "    </tr>\n",
       "    <tr>\n",
       "      <th>3</th>\n",
       "      <td>2020-11-22</td>\n",
       "      <td>sbin enters into MOUWith Luxembourg stock exc...</td>\n",
       "      <td></td>\n",
       "    </tr>\n",
       "    <tr>\n",
       "      <th>4</th>\n",
       "      <td>2020-11-21</td>\n",
       "      <td>SBI Apprentice Recruitment 2020  Stipend Rs19...</td>\n",
       "      <td></td>\n",
       "    </tr>\n",
       "    <tr>\n",
       "      <th>5</th>\n",
       "      <td>2020-11-20</td>\n",
       "      <td>Short Term Cash State Bank India LtdBuy at 24...</td>\n",
       "      <td>242</td>\n",
       "    </tr>\n",
       "    <tr>\n",
       "      <th>6</th>\n",
       "      <td>2020-11-19</td>\n",
       "      <td>sbin high 253  Buying signal at 195 httpstcoc...</td>\n",
       "      <td>239</td>\n",
       "    </tr>\n",
       "    <tr>\n",
       "      <th>7</th>\n",
       "      <td>2020-11-18</td>\n",
       "      <td>SBIN  SBIN  Nice position to Invest BUY  Trad...</td>\n",
       "      <td>252</td>\n",
       "    </tr>\n",
       "    <tr>\n",
       "      <th>8</th>\n",
       "      <td>2020-11-17</td>\n",
       "      <td>RT PAVLeader Here is an example of SBIN to le...</td>\n",
       "      <td>240</td>\n",
       "    </tr>\n",
       "  </tbody>\n",
       "</table>\n",
       "</div>"
      ],
      "text/plain": [
       "         Date                                             Tweets Prices\n",
       "0  2020-11-25  sbinToday giving nice swing both sideNo need o...       \n",
       "1  2020-11-24   SBIN  Another trade of the day  PriceAction T...    243\n",
       "2  2020-11-23   RT TechnomanThe SBI Apprentice Recruitment 20...    238\n",
       "3  2020-11-22   sbin enters into MOUWith Luxembourg stock exc...       \n",
       "4  2020-11-21   SBI Apprentice Recruitment 2020  Stipend Rs19...       \n",
       "5  2020-11-20   Short Term Cash State Bank India LtdBuy at 24...    242\n",
       "6  2020-11-19   sbin high 253  Buying signal at 195 httpstcoc...    239\n",
       "7  2020-11-18   SBIN  SBIN  Nice position to Invest BUY  Trad...    252\n",
       "8  2020-11-17   RT PAVLeader Here is an example of SBIN to le...    240"
      ]
     },
     "execution_count": 16,
     "metadata": {},
     "output_type": "execute_result"
    }
   ],
   "source": [
    "ccdata"
   ]
  },
  {
   "cell_type": "code",
   "execution_count": 17,
   "metadata": {},
   "outputs": [],
   "source": [
    "ccdata=ccdata[ccdata['Prices'].str.strip().astype(bool)]"
   ]
  },
  {
   "cell_type": "code",
   "execution_count": 18,
   "metadata": {},
   "outputs": [
    {
     "data": {
      "text/html": [
       "<div>\n",
       "<style scoped>\n",
       "    .dataframe tbody tr th:only-of-type {\n",
       "        vertical-align: middle;\n",
       "    }\n",
       "\n",
       "    .dataframe tbody tr th {\n",
       "        vertical-align: top;\n",
       "    }\n",
       "\n",
       "    .dataframe thead th {\n",
       "        text-align: right;\n",
       "    }\n",
       "</style>\n",
       "<table border=\"1\" class=\"dataframe\">\n",
       "  <thead>\n",
       "    <tr style=\"text-align: right;\">\n",
       "      <th></th>\n",
       "      <th>Date</th>\n",
       "      <th>Tweets</th>\n",
       "      <th>Prices</th>\n",
       "    </tr>\n",
       "  </thead>\n",
       "  <tbody>\n",
       "    <tr>\n",
       "      <th>1</th>\n",
       "      <td>2020-11-24</td>\n",
       "      <td>SBIN  Another trade of the day  PriceAction T...</td>\n",
       "      <td>243</td>\n",
       "    </tr>\n",
       "    <tr>\n",
       "      <th>2</th>\n",
       "      <td>2020-11-23</td>\n",
       "      <td>RT TechnomanThe SBI Apprentice Recruitment 20...</td>\n",
       "      <td>238</td>\n",
       "    </tr>\n",
       "    <tr>\n",
       "      <th>5</th>\n",
       "      <td>2020-11-20</td>\n",
       "      <td>Short Term Cash State Bank India LtdBuy at 24...</td>\n",
       "      <td>242</td>\n",
       "    </tr>\n",
       "    <tr>\n",
       "      <th>6</th>\n",
       "      <td>2020-11-19</td>\n",
       "      <td>sbin high 253  Buying signal at 195 httpstcoc...</td>\n",
       "      <td>239</td>\n",
       "    </tr>\n",
       "    <tr>\n",
       "      <th>7</th>\n",
       "      <td>2020-11-18</td>\n",
       "      <td>SBIN  SBIN  Nice position to Invest BUY  Trad...</td>\n",
       "      <td>252</td>\n",
       "    </tr>\n",
       "    <tr>\n",
       "      <th>8</th>\n",
       "      <td>2020-11-17</td>\n",
       "      <td>RT PAVLeader Here is an example of SBIN to le...</td>\n",
       "      <td>240</td>\n",
       "    </tr>\n",
       "  </tbody>\n",
       "</table>\n",
       "</div>"
      ],
      "text/plain": [
       "         Date                                             Tweets Prices\n",
       "1  2020-11-24   SBIN  Another trade of the day  PriceAction T...    243\n",
       "2  2020-11-23   RT TechnomanThe SBI Apprentice Recruitment 20...    238\n",
       "5  2020-11-20   Short Term Cash State Bank India LtdBuy at 24...    242\n",
       "6  2020-11-19   sbin high 253  Buying signal at 195 httpstcoc...    239\n",
       "7  2020-11-18   SBIN  SBIN  Nice position to Invest BUY  Trad...    252\n",
       "8  2020-11-17   RT PAVLeader Here is an example of SBIN to le...    240"
      ]
     },
     "execution_count": 18,
     "metadata": {},
     "output_type": "execute_result"
    }
   ],
   "source": [
    "ccdata"
   ]
  },
  {
   "cell_type": "code",
   "execution_count": 19,
   "metadata": {},
   "outputs": [
    {
     "name": "stderr",
     "output_type": "stream",
     "text": [
      "<ipython-input-19-b074f0a6b463>:1: SettingWithCopyWarning: \n",
      "A value is trying to be set on a copy of a slice from a DataFrame.\n",
      "Try using .loc[row_indexer,col_indexer] = value instead\n",
      "\n",
      "See the caveats in the documentation: https://pandas.pydata.org/pandas-docs/stable/user_guide/indexing.html#returning-a-view-versus-a-copy\n",
      "  ccdata['Prices'] = ccdata['Prices'].apply(np.int64)\n"
     ]
    }
   ],
   "source": [
    "ccdata['Prices'] = ccdata['Prices'].apply(np.int64)"
   ]
  },
  {
   "cell_type": "code",
   "execution_count": 20,
   "metadata": {},
   "outputs": [
    {
     "name": "stderr",
     "output_type": "stream",
     "text": [
      "<ipython-input-20-2429f2f5ba63>:1: SettingWithCopyWarning: \n",
      "A value is trying to be set on a copy of a slice from a DataFrame.\n",
      "Try using .loc[row_indexer,col_indexer] = value instead\n",
      "\n",
      "See the caveats in the documentation: https://pandas.pydata.org/pandas-docs/stable/user_guide/indexing.html#returning-a-view-versus-a-copy\n",
      "  ccdata[\"Comp\"] = ''\n",
      "<ipython-input-20-2429f2f5ba63>:2: SettingWithCopyWarning: \n",
      "A value is trying to be set on a copy of a slice from a DataFrame.\n",
      "Try using .loc[row_indexer,col_indexer] = value instead\n",
      "\n",
      "See the caveats in the documentation: https://pandas.pydata.org/pandas-docs/stable/user_guide/indexing.html#returning-a-view-versus-a-copy\n",
      "  ccdata[\"Negative\"] = ''\n",
      "<ipython-input-20-2429f2f5ba63>:3: SettingWithCopyWarning: \n",
      "A value is trying to be set on a copy of a slice from a DataFrame.\n",
      "Try using .loc[row_indexer,col_indexer] = value instead\n",
      "\n",
      "See the caveats in the documentation: https://pandas.pydata.org/pandas-docs/stable/user_guide/indexing.html#returning-a-view-versus-a-copy\n",
      "  ccdata[\"Neutral\"] = ''\n",
      "<ipython-input-20-2429f2f5ba63>:4: SettingWithCopyWarning: \n",
      "A value is trying to be set on a copy of a slice from a DataFrame.\n",
      "Try using .loc[row_indexer,col_indexer] = value instead\n",
      "\n",
      "See the caveats in the documentation: https://pandas.pydata.org/pandas-docs/stable/user_guide/indexing.html#returning-a-view-versus-a-copy\n",
      "  ccdata[\"Positive\"] = ''\n"
     ]
    },
    {
     "data": {
      "text/html": [
       "<div>\n",
       "<style scoped>\n",
       "    .dataframe tbody tr th:only-of-type {\n",
       "        vertical-align: middle;\n",
       "    }\n",
       "\n",
       "    .dataframe tbody tr th {\n",
       "        vertical-align: top;\n",
       "    }\n",
       "\n",
       "    .dataframe thead th {\n",
       "        text-align: right;\n",
       "    }\n",
       "</style>\n",
       "<table border=\"1\" class=\"dataframe\">\n",
       "  <thead>\n",
       "    <tr style=\"text-align: right;\">\n",
       "      <th></th>\n",
       "      <th>Date</th>\n",
       "      <th>Tweets</th>\n",
       "      <th>Prices</th>\n",
       "      <th>Comp</th>\n",
       "      <th>Negative</th>\n",
       "      <th>Neutral</th>\n",
       "      <th>Positive</th>\n",
       "    </tr>\n",
       "  </thead>\n",
       "  <tbody>\n",
       "    <tr>\n",
       "      <th>1</th>\n",
       "      <td>2020-11-24</td>\n",
       "      <td>SBIN  Another trade of the day  PriceAction T...</td>\n",
       "      <td>243</td>\n",
       "      <td></td>\n",
       "      <td></td>\n",
       "      <td></td>\n",
       "      <td></td>\n",
       "    </tr>\n",
       "    <tr>\n",
       "      <th>2</th>\n",
       "      <td>2020-11-23</td>\n",
       "      <td>RT TechnomanThe SBI Apprentice Recruitment 20...</td>\n",
       "      <td>238</td>\n",
       "      <td></td>\n",
       "      <td></td>\n",
       "      <td></td>\n",
       "      <td></td>\n",
       "    </tr>\n",
       "    <tr>\n",
       "      <th>5</th>\n",
       "      <td>2020-11-20</td>\n",
       "      <td>Short Term Cash State Bank India LtdBuy at 24...</td>\n",
       "      <td>242</td>\n",
       "      <td></td>\n",
       "      <td></td>\n",
       "      <td></td>\n",
       "      <td></td>\n",
       "    </tr>\n",
       "    <tr>\n",
       "      <th>6</th>\n",
       "      <td>2020-11-19</td>\n",
       "      <td>sbin high 253  Buying signal at 195 httpstcoc...</td>\n",
       "      <td>239</td>\n",
       "      <td></td>\n",
       "      <td></td>\n",
       "      <td></td>\n",
       "      <td></td>\n",
       "    </tr>\n",
       "    <tr>\n",
       "      <th>7</th>\n",
       "      <td>2020-11-18</td>\n",
       "      <td>SBIN  SBIN  Nice position to Invest BUY  Trad...</td>\n",
       "      <td>252</td>\n",
       "      <td></td>\n",
       "      <td></td>\n",
       "      <td></td>\n",
       "      <td></td>\n",
       "    </tr>\n",
       "    <tr>\n",
       "      <th>8</th>\n",
       "      <td>2020-11-17</td>\n",
       "      <td>RT PAVLeader Here is an example of SBIN to le...</td>\n",
       "      <td>240</td>\n",
       "      <td></td>\n",
       "      <td></td>\n",
       "      <td></td>\n",
       "      <td></td>\n",
       "    </tr>\n",
       "  </tbody>\n",
       "</table>\n",
       "</div>"
      ],
      "text/plain": [
       "         Date                                             Tweets  Prices Comp  \\\n",
       "1  2020-11-24   SBIN  Another trade of the day  PriceAction T...     243        \n",
       "2  2020-11-23   RT TechnomanThe SBI Apprentice Recruitment 20...     238        \n",
       "5  2020-11-20   Short Term Cash State Bank India LtdBuy at 24...     242        \n",
       "6  2020-11-19   sbin high 253  Buying signal at 195 httpstcoc...     239        \n",
       "7  2020-11-18   SBIN  SBIN  Nice position to Invest BUY  Trad...     252        \n",
       "8  2020-11-17   RT PAVLeader Here is an example of SBIN to le...     240        \n",
       "\n",
       "  Negative Neutral Positive  \n",
       "1                            \n",
       "2                            \n",
       "5                            \n",
       "6                            \n",
       "7                            \n",
       "8                            "
      ]
     },
     "execution_count": 20,
     "metadata": {},
     "output_type": "execute_result"
    }
   ],
   "source": [
    "ccdata[\"Comp\"] = ''\n",
    "ccdata[\"Negative\"] = ''\n",
    "ccdata[\"Neutral\"] = ''\n",
    "ccdata[\"Positive\"] = ''\n",
    "ccdata"
   ]
  },
  {
   "cell_type": "code",
   "execution_count": 21,
   "metadata": {},
   "outputs": [
    {
     "name": "stderr",
     "output_type": "stream",
     "text": [
      "[nltk_data] Downloading package vader_lexicon to /root/nltk_data...\n",
      "[nltk_data]   Package vader_lexicon is already up-to-date!\n"
     ]
    }
   ],
   "source": [
    "import nltk\n",
    "nltk.downloader.download('vader_lexicon')\n",
    "from nltk.sentiment.vader import SentimentIntensityAnalyzer\n",
    "from nltk.sentiment.vader import SentimentIntensityAnalyzer\n",
    "import unicodedata\n",
    "sentiment_i_a = SentimentIntensityAnalyzer()\n",
    "for indexx, row in ccdata.T.iteritems():\n",
    "    try:\n",
    "        sentence_i = unicodedata.normalize('NFKD', ccdata.loc[indexx, 'Tweets'])\n",
    "        sentence_sentiment = sentiment_i_a.polarity_scores(sentence_i)\n",
    "        ccdata.at[indexx,'Comp']=sentence_sentiment['compound']\n",
    "        ccdata.at[indexx,'Negative']=sentence_sentiment['neg']\n",
    "        ccdata.at[indexx,'Neutral']=sentence_sentiment['neu']\n",
    "        ccdata.at[indexx,'Positive']=sentence_sentiment['pos']\n",
    "        #ccdata.set_value(indexx, 'Comp', sentence_sentiment['compound'])\n",
    "        #ccdata.set_value(indexx, 'Negative', sentence_sentiment['neg'])\n",
    "        #ccdata.set_value(indexx, 'Neutral', sentence_sentiment['neu'])\n",
    "        #ccdata.set_value(indexx, 'Positive', sentence_sentiment['pos'])\n",
    "    except TypeError:\n",
    "        print (stocks_dataf.loc[indexx, 'Tweets'])\n",
    "        print (indexx)"
   ]
  },
  {
   "cell_type": "code",
   "execution_count": 22,
   "metadata": {},
   "outputs": [
    {
     "data": {
      "text/html": [
       "<div>\n",
       "<style scoped>\n",
       "    .dataframe tbody tr th:only-of-type {\n",
       "        vertical-align: middle;\n",
       "    }\n",
       "\n",
       "    .dataframe tbody tr th {\n",
       "        vertical-align: top;\n",
       "    }\n",
       "\n",
       "    .dataframe thead th {\n",
       "        text-align: right;\n",
       "    }\n",
       "</style>\n",
       "<table border=\"1\" class=\"dataframe\">\n",
       "  <thead>\n",
       "    <tr style=\"text-align: right;\">\n",
       "      <th></th>\n",
       "      <th>Date</th>\n",
       "      <th>Tweets</th>\n",
       "      <th>Prices</th>\n",
       "      <th>Comp</th>\n",
       "      <th>Negative</th>\n",
       "      <th>Neutral</th>\n",
       "      <th>Positive</th>\n",
       "    </tr>\n",
       "  </thead>\n",
       "  <tbody>\n",
       "    <tr>\n",
       "      <th>1</th>\n",
       "      <td>2020-11-24</td>\n",
       "      <td>SBIN  Another trade of the day  PriceAction T...</td>\n",
       "      <td>243</td>\n",
       "      <td>0.9774</td>\n",
       "      <td>0.025</td>\n",
       "      <td>0.816</td>\n",
       "      <td>0.159</td>\n",
       "    </tr>\n",
       "    <tr>\n",
       "      <th>2</th>\n",
       "      <td>2020-11-23</td>\n",
       "      <td>RT TechnomanThe SBI Apprentice Recruitment 20...</td>\n",
       "      <td>238</td>\n",
       "      <td>0.7783</td>\n",
       "      <td>0</td>\n",
       "      <td>0.912</td>\n",
       "      <td>0.088</td>\n",
       "    </tr>\n",
       "    <tr>\n",
       "      <th>5</th>\n",
       "      <td>2020-11-20</td>\n",
       "      <td>Short Term Cash State Bank India LtdBuy at 24...</td>\n",
       "      <td>242</td>\n",
       "      <td>0.2188</td>\n",
       "      <td>0.02</td>\n",
       "      <td>0.955</td>\n",
       "      <td>0.025</td>\n",
       "    </tr>\n",
       "    <tr>\n",
       "      <th>6</th>\n",
       "      <td>2020-11-19</td>\n",
       "      <td>sbin high 253  Buying signal at 195 httpstcoc...</td>\n",
       "      <td>239</td>\n",
       "      <td>0.9993</td>\n",
       "      <td>0.005</td>\n",
       "      <td>0.801</td>\n",
       "      <td>0.194</td>\n",
       "    </tr>\n",
       "    <tr>\n",
       "      <th>7</th>\n",
       "      <td>2020-11-18</td>\n",
       "      <td>SBIN  SBIN  Nice position to Invest BUY  Trad...</td>\n",
       "      <td>252</td>\n",
       "      <td>0.9995</td>\n",
       "      <td>0.006</td>\n",
       "      <td>0.844</td>\n",
       "      <td>0.15</td>\n",
       "    </tr>\n",
       "    <tr>\n",
       "      <th>8</th>\n",
       "      <td>2020-11-17</td>\n",
       "      <td>RT PAVLeader Here is an example of SBIN to le...</td>\n",
       "      <td>240</td>\n",
       "      <td>0.9968</td>\n",
       "      <td>0.007</td>\n",
       "      <td>0.868</td>\n",
       "      <td>0.125</td>\n",
       "    </tr>\n",
       "  </tbody>\n",
       "</table>\n",
       "</div>"
      ],
      "text/plain": [
       "         Date                                             Tweets  Prices  \\\n",
       "1  2020-11-24   SBIN  Another trade of the day  PriceAction T...     243   \n",
       "2  2020-11-23   RT TechnomanThe SBI Apprentice Recruitment 20...     238   \n",
       "5  2020-11-20   Short Term Cash State Bank India LtdBuy at 24...     242   \n",
       "6  2020-11-19   sbin high 253  Buying signal at 195 httpstcoc...     239   \n",
       "7  2020-11-18   SBIN  SBIN  Nice position to Invest BUY  Trad...     252   \n",
       "8  2020-11-17   RT PAVLeader Here is an example of SBIN to le...     240   \n",
       "\n",
       "     Comp Negative Neutral Positive  \n",
       "1  0.9774    0.025   0.816    0.159  \n",
       "2  0.7783        0   0.912    0.088  \n",
       "5  0.2188     0.02   0.955    0.025  \n",
       "6  0.9993    0.005   0.801    0.194  \n",
       "7  0.9995    0.006   0.844     0.15  \n",
       "8  0.9968    0.007   0.868    0.125  "
      ]
     },
     "execution_count": 22,
     "metadata": {},
     "output_type": "execute_result"
    }
   ],
   "source": [
    "ccdata"
   ]
  },
  {
   "cell_type": "code",
   "execution_count": 28,
   "metadata": {},
   "outputs": [],
   "source": [
    "posi=0\n",
    "nega=0\n",
    "xyz=ccdata['Comp']\n"
   ]
  },
  {
   "cell_type": "code",
   "execution_count": 29,
   "metadata": {},
   "outputs": [
    {
     "name": "stdout",
     "output_type": "stream",
     "text": [
      "1    0.9774\n",
      "2    0.7783\n",
      "5    0.2188\n",
      "6    0.9993\n",
      "7    0.9995\n",
      "8    0.9968\n",
      "Name: Comp, dtype: object\n"
     ]
    }
   ],
   "source": [
    "print(xyz)"
   ]
  },
  {
   "cell_type": "code",
   "execution_count": 72,
   "metadata": {},
   "outputs": [],
   "source": [
    "xy=0"
   ]
  },
  {
   "cell_type": "code",
   "execution_count": 73,
   "metadata": {},
   "outputs": [
    {
     "name": "stdout",
     "output_type": "stream",
     "text": [
      "% of positive tweets=  93.22033898305084\n",
      "% of negative tweets=  6.779661016949152\n"
     ]
    },
    {
     "data": {
      "text/plain": [
       "[]"
      ]
     },
     "execution_count": 73,
     "metadata": {},
     "output_type": "execute_result"
    },
    {
     "data": {
      "image/png": "[encoded data removed]",
      "text/plain": [
       "<Figure size 432x288 with 1 Axes>"
      ]
     },
     "metadata": {},
     "output_type": "display_data"
    }
   ],
   "source": [
    "for i in ccdata.Comp:\n",
    "    get_val=i\n",
    "    if(float(get_val)<(0.2)):\n",
    "        nega=nega+1\n",
    "    if(float(get_val>(0.7))):\n",
    "        posi=posi+1\n",
    "    xy=xy+1\n",
    "posper=(posi/(posi+nega))*100\n",
    "negper=(nega/(posi+nega))*100\n",
    "print(\"% of positive tweets= \",posper)\n",
    "print(\"% of negative tweets= \",negper)\n",
    "arr=np.asarray([posper,negper], dtype=int)\n",
    "mlpt.pie(arr,labels=['positive','negative'])\n",
    "mlpt.plot()"
   ]
  },
  {
   "cell_type": "code",
   "execution_count": 74,
   "metadata": {},
   "outputs": [],
   "source": [
    "df_=ccdata[['Date','Prices','Comp','Negative','Neutral','Positive']].copy()"
   ]
  },
  {
   "cell_type": "code",
   "execution_count": 75,
   "metadata": {},
   "outputs": [],
   "source": [
    "train_start_index = '0'\n",
    "train_end_index = '6'\n",
    "test_start_index = '7'\n",
    "test_end_index = '9'\n",
    "train = df_.loc[train_start_index : train_end_index]\n",
    "test = df_.loc[test_start_index:test_end_index]"
   ]
  },
  {
   "cell_type": "code",
   "execution_count": 76,
   "metadata": {},
   "outputs": [],
   "source": [
    "sentiment_score_list = []\n",
    "for date, row in train.T.iteritems():\n",
    "    sentiment_score = np.asarray([df_.loc[date, 'Negative'],df_.loc[date, 'Positive']])\n",
    "    sentiment_score_list.append(sentiment_score)\n",
    "numpy_df_train = np.asarray(sentiment_score_list)"
   ]
  },
  {
   "cell_type": "code",
   "execution_count": 77,
   "metadata": {},
   "outputs": [
    {
     "name": "stdout",
     "output_type": "stream",
     "text": [
      "[[0.025 0.159]\n",
      " [0.    0.088]\n",
      " [0.02  0.025]\n",
      " [0.005 0.194]]\n"
     ]
    }
   ],
   "source": [
    "print(numpy_df_train)"
   ]
  },
  {
   "cell_type": "code",
   "execution_count": 78,
   "metadata": {},
   "outputs": [],
   "source": [
    "sentiment_score_list = []\n",
    "for date, row in test.T.iteritems():\n",
    "    sentiment_score = np.asarray([df_.loc[date, 'Negative'],df_.loc[date, 'Positive']])\n",
    "    sentiment_score_list.append(sentiment_score)\n",
    "numpy_df_test = np.asarray(sentiment_score_list)"
   ]
  },
  {
   "cell_type": "code",
   "execution_count": 79,
   "metadata": {},
   "outputs": [
    {
     "name": "stdout",
     "output_type": "stream",
     "text": [
      "[[0.006 0.15 ]\n",
      " [0.007 0.125]]\n"
     ]
    }
   ],
   "source": [
    "print(numpy_df_test)"
   ]
  },
  {
   "cell_type": "code",
   "execution_count": 80,
   "metadata": {},
   "outputs": [
    {
     "name": "stdout",
     "output_type": "stream",
     "text": [
      "   Prices\n",
      "1     243\n",
      "2     238\n",
      "5     242\n",
      "6     239\n"
     ]
    }
   ],
   "source": [
    "y_train = pd.DataFrame(train['Prices'])\n",
    "y_test = pd.DataFrame(test['Prices'])\n",
    "print(y_train)"
   ]
  },
  {
   "cell_type": "code",
   "execution_count": 113,
   "metadata": {},
   "outputs": [
    {
     "name": "stderr",
     "output_type": "stream",
     "text": [
      "<ipython-input-113-e678b15f23b6>:7: DataConversionWarning: A column-vector y was passed when a 1d array was expected. Please change the shape of y to (n_samples,), for example using ravel().\n",
      "  rf.fit(numpy_df_train, y_train)\n"
     ]
    }
   ],
   "source": [
    "from treeinterpreter import treeinterpreter as ti\n",
    "from sklearn.tree import DecisionTreeRegressor\n",
    "from sklearn.ensemble import RandomForestRegressor\n",
    "from sklearn.metrics import classification_report,confusion_matrix\n",
    "import matplotlib.pyplot as plt\n",
    "rf = RandomForestRegressor()\n",
    "rf.fit(numpy_df_train, y_train)\n",
    "prediction, bias, contributions = ti.predict(rf, numpy_df_test)"
   ]
  },
  {
   "cell_type": "code",
   "execution_count": 116,
   "metadata": {},
   "outputs": [
    {
     "name": "stdout",
     "output_type": "stream",
     "text": [
      "[[239.47]\n",
      " [239.24]]\n"
     ]
    }
   ],
   "source": [
    "print(prediction)"
   ]
  },
  {
   "cell_type": "code",
   "execution_count": 122,
   "metadata": {},
   "outputs": [
    {
     "name": "stdout",
     "output_type": "stream",
     "text": [
      "[[239.47]\n",
      " [239.24]]\n"
     ]
    }
   ],
   "source": [
    "print(prediction)"
   ]
  },
  {
   "cell_type": "code",
   "execution_count": 132,
   "metadata": {},
   "outputs": [],
   "source": [
    "idx=np.arange(int(test_start_index),int(test_end_index))"
   ]
  },
  {
   "cell_type": "code",
   "execution_count": null,
   "metadata": {},
   "outputs": [],
   "source": []
  },
  {
   "cell_type": "code",
   "execution_count": 133,
   "metadata": {},
   "outputs": [],
   "source": [
    "predictions_df_ = pd.DataFrame(data=prediction[:], index = idx, columns=['Prices'])"
   ]
  },
  {
   "cell_type": "code",
   "execution_count": 134,
   "metadata": {},
   "outputs": [
    {
     "data": {
      "text/html": [
       "<div>\n",
       "<style scoped>\n",
       "    .dataframe tbody tr th:only-of-type {\n",
       "        vertical-align: middle;\n",
       "    }\n",
       "\n",
       "    .dataframe tbody tr th {\n",
       "        vertical-align: top;\n",
       "    }\n",
       "\n",
       "    .dataframe thead th {\n",
       "        text-align: right;\n",
       "    }\n",
       "</style>\n",
       "<table border=\"1\" class=\"dataframe\">\n",
       "  <thead>\n",
       "    <tr style=\"text-align: right;\">\n",
       "      <th></th>\n",
       "      <th>Prices</th>\n",
       "    </tr>\n",
       "  </thead>\n",
       "  <tbody>\n",
       "    <tr>\n",
       "      <th>7</th>\n",
       "      <td>239.47</td>\n",
       "    </tr>\n",
       "    <tr>\n",
       "      <th>8</th>\n",
       "      <td>239.24</td>\n",
       "    </tr>\n",
       "  </tbody>\n",
       "</table>\n",
       "</div>"
      ],
      "text/plain": [
       "   Prices\n",
       "7  239.47\n",
       "8  239.24"
      ]
     },
     "execution_count": 134,
     "metadata": {},
     "output_type": "execute_result"
    }
   ],
   "source": [
    "predictions_df_"
   ]
  },
  {
   "cell_type": "code",
   "execution_count": 135,
   "metadata": {},
   "outputs": [
    {
     "data": {
      "image/png": "[encoded data removed]",
      "text/plain": [
       "<Figure size 432x288 with 1 Axes>"
      ]
     },
     "metadata": {
      "needs_background": "light"
     },
     "output_type": "display_data"
    }
   ],
   "source": [
    "ax = predictions_df_.rename(columns={\"Prices\": \"predicted_price\"}).plot(title='Random Forest predicted prices')#predicted value\n",
    "ax.set_xlabel(\"Indexes\")\n",
    "ax.set_ylabel(\"Stock Prices\")\n",
    "fig = y_test.rename(columns={\"Prices\": \"actual_price\"}).plot(ax = ax).get_figure()#actual value\n",
    "fig.savefig(\"random forest.png\")"
   ]
  },
  {
   "cell_type": "code",
   "execution_count": 136,
   "metadata": {},
   "outputs": [
    {
     "data": {
      "text/plain": [
       "LinearRegression()"
      ]
     },
     "execution_count": 136,
     "metadata": {},
     "output_type": "execute_result"
    }
   ],
   "source": [
    "from treeinterpreter import treeinterpreter as ti\n",
    "from sklearn.tree import DecisionTreeRegressor\n",
    "from sklearn.linear_model import LinearRegression\n",
    "from sklearn.metrics import classification_report,confusion_matrix\n",
    "\n",
    "reg = LinearRegression()\n",
    "reg.fit(numpy_df_train, y_train)"
   ]
  },
  {
   "cell_type": "code",
   "execution_count": 137,
   "metadata": {},
   "outputs": [
    {
     "data": {
      "text/plain": [
       "array([[239.2],\n",
       "       [239.4]])"
      ]
     },
     "execution_count": 137,
     "metadata": {},
     "output_type": "execute_result"
    }
   ],
   "source": [
    "reg.predict(numpy_df_test)"
   ]
  },
  {
   "cell_type": "code",
   "execution_count": null,
   "metadata": {},
   "outputs": [],
   "source": []
  },
  {
   "cell_type": "code",
   "execution_count": null,
   "metadata": {},
   "outputs": [],
   "source": [
    "'''Since our dataset is very small and as you can see that \n",
    "fetching 600 tweets could only make data for just 10 days.\n",
    "Also the prediction is not very great in such small dataset. \n",
    "So we found this new dataset on internet which has the Text as \"Tweets\"\n",
    "and respective \"close price\" and \"Adjusted close price\".\n",
    "Adjusted Close Price: An adjusted closing price is a stock's \n",
    "closing price on any given day of trading that has been amended to \n",
    "include any distributions and corporate actions that occurred at any \n",
    "time before the next day's open.'''"
   ]
  },
  {
   "cell_type": "code",
   "execution_count": null,
   "metadata": {},
   "outputs": [],
   "source": []
  }
 ],
 "metadata": {
  "kernelspec": {
   "display_name": "Python 3",
   "language": "python",
   "name": "python3"
  },
  "language_info": {
   "codemirror_mode": {
    "name": "ipython",
    "version": 3
   },
   "file_extension": ".py",
   "mimetype": "text/x-python",
   "name": "python",
   "nbconvert_exporter": "python",
   "pygments_lexer": "ipython3",
   "version": "3.8.5"
  }
 },
 "nbformat": 4,
 "nbformat_minor": 2
}
