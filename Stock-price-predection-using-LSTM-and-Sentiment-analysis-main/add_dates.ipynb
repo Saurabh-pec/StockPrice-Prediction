{
 "cells": [
  {
   "cell_type": "code",
   "execution_count": 1,
   "metadata": {},
   "outputs": [
    {
     "data": {
      "text/plain": [
       "array('NaT', dtype=datetime64)"
      ]
     },
     "execution_count": 1,
     "metadata": {},
     "output_type": "execute_result"
    }
   ],
   "source": [
    "import numpy as np\n",
    "s=input(\"Enter int the format YYYY-MM-DD\")\n",
    "date = np.array(s, dtype=np.datetime64)\n",
    "date"
   ]
  },
  {
   "cell_type": "code",
   "execution_count": 2,
   "metadata": {},
   "outputs": [
    {
     "name": "stdout",
     "output_type": "stream",
     "text": [
      "['NaT' 'NaT' 'NaT' 'NaT' 'NaT' 'NaT' 'NaT' 'NaT' 'NaT' 'NaT' 'NaT' 'NaT'\n",
      " 'NaT' 'NaT' 'NaT' 'NaT' 'NaT' 'NaT' 'NaT' 'NaT' 'NaT' 'NaT' 'NaT' 'NaT'\n",
      " 'NaT' 'NaT' 'NaT' 'NaT' 'NaT' 'NaT' 'NaT' 'NaT' 'NaT' 'NaT' 'NaT' 'NaT'\n",
      " 'NaT' 'NaT' 'NaT' 'NaT' 'NaT' 'NaT' 'NaT' 'NaT' 'NaT']\n"
     ]
    }
   ],
   "source": [
    "a=date - np.arange(45)\n",
    "b=date + np.arange(45)\n",
    "a=a[::-1]\n",
    "b=b[1::]\n",
    "print(a)\n"
   ]
  },
  {
   "cell_type": "code",
   "execution_count": 3,
   "metadata": {},
   "outputs": [
    {
     "name": "stdout",
     "output_type": "stream",
     "text": [
      "['NaT' 'NaT' 'NaT' 'NaT' 'NaT' 'NaT' 'NaT' 'NaT' 'NaT' 'NaT' 'NaT' 'NaT'\n",
      " 'NaT' 'NaT' 'NaT' 'NaT' 'NaT' 'NaT' 'NaT' 'NaT' 'NaT' 'NaT' 'NaT' 'NaT'\n",
      " 'NaT' 'NaT' 'NaT' 'NaT' 'NaT' 'NaT' 'NaT' 'NaT' 'NaT' 'NaT' 'NaT' 'NaT'\n",
      " 'NaT' 'NaT' 'NaT' 'NaT' 'NaT' 'NaT' 'NaT' 'NaT']\n"
     ]
    }
   ],
   "source": [
    "print(b)"
   ]
  },
  {
   "cell_type": "code",
   "execution_count": 4,
   "metadata": {},
   "outputs": [],
   "source": [
    "import pandas as pd "
   ]
  },
  {
   "cell_type": "code",
   "execution_count": 5,
   "metadata": {},
   "outputs": [],
   "source": [
    "arr = np.concatenate((a, b))"
   ]
  },
  {
   "cell_type": "code",
   "execution_count": 6,
   "metadata": {},
   "outputs": [
    {
     "ename": "ValueError",
     "evalue": "datetime64/timedelta64 must have a unit specified",
     "output_type": "error",
     "traceback": [
      "\u001b[1;31m---------------------------------------------------------------------------\u001b[0m",
      "\u001b[1;31mValueError\u001b[0m                                Traceback (most recent call last)",
      "\u001b[1;32mc:\\Users\\SAURABH\\Desktop\\Final Year Project\\testing\\Stock-price-predection-using-LSTM-and-Sentiment-analysis-main\\add_dates.ipynb Cell 6\u001b[0m in \u001b[0;36m<cell line: 1>\u001b[1;34m()\u001b[0m\n\u001b[1;32m----> <a href='vscode-notebook-cell:/c%3A/Users/SAURABH/Desktop/Final%20Year%20Project/testing/Stock-price-predection-using-LSTM-and-Sentiment-analysis-main/add_dates.ipynb#W5sZmlsZQ%3D%3D?line=0'>1</a>\u001b[0m DF \u001b[39m=\u001b[39m pd\u001b[39m.\u001b[39;49mDataFrame(arr)\n",
      "File \u001b[1;32mc:\\Users\\SAURABH\\anaconda3\\lib\\site-packages\\pandas\\core\\frame.py:694\u001b[0m, in \u001b[0;36mDataFrame.__init__\u001b[1;34m(self, data, index, columns, dtype, copy)\u001b[0m\n\u001b[0;32m    684\u001b[0m         mgr \u001b[39m=\u001b[39m dict_to_mgr(\n\u001b[0;32m    685\u001b[0m             \u001b[39m# error: Item \"ndarray\" of \"Union[ndarray, Series, Index]\" has no\u001b[39;00m\n\u001b[0;32m    686\u001b[0m             \u001b[39m# attribute \"name\"\u001b[39;00m\n\u001b[1;32m   (...)\u001b[0m\n\u001b[0;32m    691\u001b[0m             typ\u001b[39m=\u001b[39mmanager,\n\u001b[0;32m    692\u001b[0m         )\n\u001b[0;32m    693\u001b[0m     \u001b[39melse\u001b[39;00m:\n\u001b[1;32m--> 694\u001b[0m         mgr \u001b[39m=\u001b[39m ndarray_to_mgr(\n\u001b[0;32m    695\u001b[0m             data,\n\u001b[0;32m    696\u001b[0m             index,\n\u001b[0;32m    697\u001b[0m             columns,\n\u001b[0;32m    698\u001b[0m             dtype\u001b[39m=\u001b[39;49mdtype,\n\u001b[0;32m    699\u001b[0m             copy\u001b[39m=\u001b[39;49mcopy,\n\u001b[0;32m    700\u001b[0m             typ\u001b[39m=\u001b[39;49mmanager,\n\u001b[0;32m    701\u001b[0m         )\n\u001b[0;32m    703\u001b[0m \u001b[39m# For data is list-like, or Iterable (will consume into list)\u001b[39;00m\n\u001b[0;32m    704\u001b[0m \u001b[39melif\u001b[39;00m is_list_like(data):\n",
      "File \u001b[1;32mc:\\Users\\SAURABH\\anaconda3\\lib\\site-packages\\pandas\\core\\internals\\construction.py:396\u001b[0m, in \u001b[0;36mndarray_to_mgr\u001b[1;34m(values, index, columns, dtype, copy, typ)\u001b[0m\n\u001b[0;32m    394\u001b[0m \u001b[39melse\u001b[39;00m:\n\u001b[0;32m    395\u001b[0m     bp \u001b[39m=\u001b[39m BlockPlacement(\u001b[39mslice\u001b[39m(\u001b[39mlen\u001b[39m(columns)))\n\u001b[1;32m--> 396\u001b[0m     nb \u001b[39m=\u001b[39m new_block_2d(values, placement\u001b[39m=\u001b[39;49mbp)\n\u001b[0;32m    397\u001b[0m     block_values \u001b[39m=\u001b[39m [nb]\n\u001b[0;32m    399\u001b[0m \u001b[39mif\u001b[39;00m \u001b[39mlen\u001b[39m(columns) \u001b[39m==\u001b[39m \u001b[39m0\u001b[39m:\n",
      "File \u001b[1;32mc:\\Users\\SAURABH\\anaconda3\\lib\\site-packages\\pandas\\core\\internals\\blocks.py:2037\u001b[0m, in \u001b[0;36mnew_block_2d\u001b[1;34m(values, placement)\u001b[0m\n\u001b[0;32m   2030\u001b[0m \u001b[39mdef\u001b[39;00m \u001b[39mnew_block_2d\u001b[39m(values: ArrayLike, placement: BlockPlacement):\n\u001b[0;32m   2031\u001b[0m     \u001b[39m# new_block specialized to case with\u001b[39;00m\n\u001b[0;32m   2032\u001b[0m     \u001b[39m#  ndim=2\u001b[39;00m\n\u001b[0;32m   2033\u001b[0m     \u001b[39m#  isinstance(placement, BlockPlacement)\u001b[39;00m\n\u001b[0;32m   2034\u001b[0m     \u001b[39m#  check_ndim/ensure_block_shape already checked\u001b[39;00m\n\u001b[0;32m   2035\u001b[0m     klass \u001b[39m=\u001b[39m get_block_type(values\u001b[39m.\u001b[39mdtype)\n\u001b[1;32m-> 2037\u001b[0m     values \u001b[39m=\u001b[39m maybe_coerce_values(values)\n\u001b[0;32m   2038\u001b[0m     \u001b[39mreturn\u001b[39;00m klass(values, ndim\u001b[39m=\u001b[39m\u001b[39m2\u001b[39m, placement\u001b[39m=\u001b[39mplacement)\n",
      "File \u001b[1;32mc:\\Users\\SAURABH\\anaconda3\\lib\\site-packages\\pandas\\core\\internals\\blocks.py:1977\u001b[0m, in \u001b[0;36mmaybe_coerce_values\u001b[1;34m(values)\u001b[0m\n\u001b[0;32m   1974\u001b[0m \u001b[39m# Caller is responsible for ensuring PandasArray is already extracted.\u001b[39;00m\n\u001b[0;32m   1976\u001b[0m \u001b[39mif\u001b[39;00m \u001b[39misinstance\u001b[39m(values, np\u001b[39m.\u001b[39mndarray):\n\u001b[1;32m-> 1977\u001b[0m     values \u001b[39m=\u001b[39m ensure_wrapped_if_datetimelike(values)\n\u001b[0;32m   1979\u001b[0m     \u001b[39mif\u001b[39;00m \u001b[39missubclass\u001b[39m(values\u001b[39m.\u001b[39mdtype\u001b[39m.\u001b[39mtype, \u001b[39mstr\u001b[39m):\n\u001b[0;32m   1980\u001b[0m         values \u001b[39m=\u001b[39m np\u001b[39m.\u001b[39marray(values, dtype\u001b[39m=\u001b[39m\u001b[39mobject\u001b[39m)\n",
      "File \u001b[1;32mc:\\Users\\SAURABH\\anaconda3\\lib\\site-packages\\pandas\\core\\construction.py:446\u001b[0m, in \u001b[0;36mensure_wrapped_if_datetimelike\u001b[1;34m(arr)\u001b[0m\n\u001b[0;32m    443\u001b[0m \u001b[39mif\u001b[39;00m arr\u001b[39m.\u001b[39mdtype\u001b[39m.\u001b[39mkind \u001b[39m==\u001b[39m \u001b[39m\"\u001b[39m\u001b[39mM\u001b[39m\u001b[39m\"\u001b[39m:\n\u001b[0;32m    444\u001b[0m     \u001b[39mfrom\u001b[39;00m \u001b[39mpandas\u001b[39;00m\u001b[39m.\u001b[39;00m\u001b[39mcore\u001b[39;00m\u001b[39m.\u001b[39;00m\u001b[39marrays\u001b[39;00m \u001b[39mimport\u001b[39;00m DatetimeArray\n\u001b[1;32m--> 446\u001b[0m     \u001b[39mreturn\u001b[39;00m DatetimeArray\u001b[39m.\u001b[39;49m_from_sequence(arr)\n\u001b[0;32m    448\u001b[0m \u001b[39melif\u001b[39;00m arr\u001b[39m.\u001b[39mdtype\u001b[39m.\u001b[39mkind \u001b[39m==\u001b[39m \u001b[39m\"\u001b[39m\u001b[39mm\u001b[39m\u001b[39m\"\u001b[39m:\n\u001b[0;32m    449\u001b[0m     \u001b[39mfrom\u001b[39;00m \u001b[39mpandas\u001b[39;00m\u001b[39m.\u001b[39;00m\u001b[39mcore\u001b[39;00m\u001b[39m.\u001b[39;00m\u001b[39marrays\u001b[39;00m \u001b[39mimport\u001b[39;00m TimedeltaArray\n",
      "File \u001b[1;32mc:\\Users\\SAURABH\\anaconda3\\lib\\site-packages\\pandas\\core\\arrays\\datetimes.py:339\u001b[0m, in \u001b[0;36mDatetimeArray._from_sequence\u001b[1;34m(cls, scalars, dtype, copy)\u001b[0m\n\u001b[0;32m    337\u001b[0m \u001b[39m@classmethod\u001b[39m\n\u001b[0;32m    338\u001b[0m \u001b[39mdef\u001b[39;00m \u001b[39m_from_sequence\u001b[39m(\u001b[39mcls\u001b[39m, scalars, \u001b[39m*\u001b[39m, dtype\u001b[39m=\u001b[39m\u001b[39mNone\u001b[39;00m, copy: \u001b[39mbool\u001b[39m \u001b[39m=\u001b[39m \u001b[39mFalse\u001b[39;00m):\n\u001b[1;32m--> 339\u001b[0m     \u001b[39mreturn\u001b[39;00m \u001b[39mcls\u001b[39;49m\u001b[39m.\u001b[39;49m_from_sequence_not_strict(scalars, dtype\u001b[39m=\u001b[39;49mdtype, copy\u001b[39m=\u001b[39;49mcopy)\n",
      "File \u001b[1;32mc:\\Users\\SAURABH\\anaconda3\\lib\\site-packages\\pandas\\core\\arrays\\datetimes.py:358\u001b[0m, in \u001b[0;36mDatetimeArray._from_sequence_not_strict\u001b[1;34m(cls, data, dtype, copy, tz, freq, dayfirst, yearfirst, ambiguous)\u001b[0m\n\u001b[0;32m    354\u001b[0m freq \u001b[39m=\u001b[39m freq \u001b[39mif\u001b[39;00m freq \u001b[39mis\u001b[39;00m \u001b[39mnot\u001b[39;00m lib\u001b[39m.\u001b[39mno_default \u001b[39melse\u001b[39;00m \u001b[39mNone\u001b[39;00m\n\u001b[0;32m    356\u001b[0m freq, freq_infer \u001b[39m=\u001b[39m dtl\u001b[39m.\u001b[39mmaybe_infer_freq(freq)\n\u001b[1;32m--> 358\u001b[0m subarr, tz, inferred_freq \u001b[39m=\u001b[39m _sequence_to_dt64ns(\n\u001b[0;32m    359\u001b[0m     data,\n\u001b[0;32m    360\u001b[0m     dtype\u001b[39m=\u001b[39;49mdtype,\n\u001b[0;32m    361\u001b[0m     copy\u001b[39m=\u001b[39;49mcopy,\n\u001b[0;32m    362\u001b[0m     tz\u001b[39m=\u001b[39;49mtz,\n\u001b[0;32m    363\u001b[0m     dayfirst\u001b[39m=\u001b[39;49mdayfirst,\n\u001b[0;32m    364\u001b[0m     yearfirst\u001b[39m=\u001b[39;49myearfirst,\n\u001b[0;32m    365\u001b[0m     ambiguous\u001b[39m=\u001b[39;49mambiguous,\n\u001b[0;32m    366\u001b[0m )\n\u001b[0;32m    368\u001b[0m freq, freq_infer \u001b[39m=\u001b[39m dtl\u001b[39m.\u001b[39mvalidate_inferred_freq(freq, inferred_freq, freq_infer)\n\u001b[0;32m    369\u001b[0m \u001b[39mif\u001b[39;00m explicit_none:\n",
      "File \u001b[1;32mc:\\Users\\SAURABH\\anaconda3\\lib\\site-packages\\pandas\\core\\arrays\\datetimes.py:2115\u001b[0m, in \u001b[0;36m_sequence_to_dt64ns\u001b[1;34m(data, dtype, copy, tz, dayfirst, yearfirst, ambiguous, allow_mixed, require_iso8601)\u001b[0m\n\u001b[0;32m   2113\u001b[0m data \u001b[39m=\u001b[39m \u001b[39mgetattr\u001b[39m(data, \u001b[39m\"\u001b[39m\u001b[39m_ndarray\u001b[39m\u001b[39m\"\u001b[39m, data)\n\u001b[0;32m   2114\u001b[0m \u001b[39mif\u001b[39;00m data\u001b[39m.\u001b[39mdtype \u001b[39m!=\u001b[39m DT64NS_DTYPE:\n\u001b[1;32m-> 2115\u001b[0m     data \u001b[39m=\u001b[39m conversion\u001b[39m.\u001b[39;49mensure_datetime64ns(data)\n\u001b[0;32m   2116\u001b[0m     copy \u001b[39m=\u001b[39m \u001b[39mFalse\u001b[39;00m\n\u001b[0;32m   2118\u001b[0m \u001b[39mif\u001b[39;00m tz \u001b[39mis\u001b[39;00m \u001b[39mnot\u001b[39;00m \u001b[39mNone\u001b[39;00m:\n\u001b[0;32m   2119\u001b[0m     \u001b[39m# Convert tz-naive to UTC\u001b[39;00m\n",
      "File \u001b[1;32mc:\\Users\\SAURABH\\anaconda3\\lib\\site-packages\\pandas\\_libs\\tslibs\\conversion.pyx:240\u001b[0m, in \u001b[0;36mpandas._libs.tslibs.conversion.ensure_datetime64ns\u001b[1;34m()\u001b[0m\n",
      "\u001b[1;31mValueError\u001b[0m: datetime64/timedelta64 must have a unit specified"
     ]
    }
   ],
   "source": [
    "DF = pd.DataFrame(arr)"
   ]
  },
  {
   "cell_type": "code",
   "execution_count": null,
   "metadata": {},
   "outputs": [],
   "source": [
    "DF.to_csv(\"dates.csv\")"
   ]
  }
 ],
 "metadata": {
  "kernelspec": {
   "display_name": "Python 3",
   "language": "python",
   "name": "python3"
  },
  "language_info": {
   "codemirror_mode": {
    "name": "ipython",
    "version": 3
   },
   "file_extension": ".py",
   "mimetype": "text/x-python",
   "name": "python",
   "nbconvert_exporter": "python",
   "pygments_lexer": "ipython3",
   "version": "3.9.12"
  }
 },
 "nbformat": 4,
 "nbformat_minor": 4
}
